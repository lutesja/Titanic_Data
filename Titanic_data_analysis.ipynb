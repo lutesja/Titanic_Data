{
 "cells": [
  {
   "cell_type": "markdown",
   "id": "d570a6fc-852f-4b47-b5d8-5bf12c44daaf",
   "metadata": {
    "jp-MarkdownHeadingCollapsed": true
   },
   "source": [
    "# Libraries"
   ]
  },
  {
   "cell_type": "code",
   "execution_count": 1,
   "id": "3d1d396b-232b-4860-bee0-87494381e4aa",
   "metadata": {},
   "outputs": [],
   "source": [
    "import pandas as pd\n",
    "import scipy\n",
    "import numpy as np\n",
    "import matplotlib.pyplot as plt\n",
    "# This cell imports need libraries to perform data analysis and build visual aids"
   ]
  },
  {
   "cell_type": "markdown",
   "id": "a1c633d7-5e9a-4ea5-88e2-cd3954f501d2",
   "metadata": {
    "jp-MarkdownHeadingCollapsed": true
   },
   "source": [
    "# Data Import and Readings"
   ]
  },
  {
   "cell_type": "code",
   "execution_count": 2,
   "id": "aaeef9a9-d233-4c58-8c63-e800f220658d",
   "metadata": {},
   "outputs": [
    {
     "data": {
      "text/html": [
       "<div>\n",
       "<style scoped>\n",
       "    .dataframe tbody tr th:only-of-type {\n",
       "        vertical-align: middle;\n",
       "    }\n",
       "\n",
       "    .dataframe tbody tr th {\n",
       "        vertical-align: top;\n",
       "    }\n",
       "\n",
       "    .dataframe thead th {\n",
       "        text-align: right;\n",
       "    }\n",
       "</style>\n",
       "<table border=\"1\" class=\"dataframe\">\n",
       "  <thead>\n",
       "    <tr style=\"text-align: right;\">\n",
       "      <th></th>\n",
       "      <th>PassengerId</th>\n",
       "      <th>Survived</th>\n",
       "      <th>Pclass</th>\n",
       "      <th>Age</th>\n",
       "      <th>SibSp</th>\n",
       "      <th>Parch</th>\n",
       "      <th>Fare</th>\n",
       "    </tr>\n",
       "  </thead>\n",
       "  <tbody>\n",
       "    <tr>\n",
       "      <th>count</th>\n",
       "      <td>891.000000</td>\n",
       "      <td>891.000000</td>\n",
       "      <td>891.000000</td>\n",
       "      <td>714.000000</td>\n",
       "      <td>891.000000</td>\n",
       "      <td>891.000000</td>\n",
       "      <td>891.000000</td>\n",
       "    </tr>\n",
       "    <tr>\n",
       "      <th>mean</th>\n",
       "      <td>446.000000</td>\n",
       "      <td>0.383838</td>\n",
       "      <td>2.308642</td>\n",
       "      <td>29.699118</td>\n",
       "      <td>0.523008</td>\n",
       "      <td>0.381594</td>\n",
       "      <td>32.204208</td>\n",
       "    </tr>\n",
       "    <tr>\n",
       "      <th>std</th>\n",
       "      <td>257.353842</td>\n",
       "      <td>0.486592</td>\n",
       "      <td>0.836071</td>\n",
       "      <td>14.526497</td>\n",
       "      <td>1.102743</td>\n",
       "      <td>0.806057</td>\n",
       "      <td>49.693429</td>\n",
       "    </tr>\n",
       "    <tr>\n",
       "      <th>min</th>\n",
       "      <td>1.000000</td>\n",
       "      <td>0.000000</td>\n",
       "      <td>1.000000</td>\n",
       "      <td>0.420000</td>\n",
       "      <td>0.000000</td>\n",
       "      <td>0.000000</td>\n",
       "      <td>0.000000</td>\n",
       "    </tr>\n",
       "    <tr>\n",
       "      <th>25%</th>\n",
       "      <td>223.500000</td>\n",
       "      <td>0.000000</td>\n",
       "      <td>2.000000</td>\n",
       "      <td>20.125000</td>\n",
       "      <td>0.000000</td>\n",
       "      <td>0.000000</td>\n",
       "      <td>7.910400</td>\n",
       "    </tr>\n",
       "    <tr>\n",
       "      <th>50%</th>\n",
       "      <td>446.000000</td>\n",
       "      <td>0.000000</td>\n",
       "      <td>3.000000</td>\n",
       "      <td>28.000000</td>\n",
       "      <td>0.000000</td>\n",
       "      <td>0.000000</td>\n",
       "      <td>14.454200</td>\n",
       "    </tr>\n",
       "    <tr>\n",
       "      <th>75%</th>\n",
       "      <td>668.500000</td>\n",
       "      <td>1.000000</td>\n",
       "      <td>3.000000</td>\n",
       "      <td>38.000000</td>\n",
       "      <td>1.000000</td>\n",
       "      <td>0.000000</td>\n",
       "      <td>31.000000</td>\n",
       "    </tr>\n",
       "    <tr>\n",
       "      <th>max</th>\n",
       "      <td>891.000000</td>\n",
       "      <td>1.000000</td>\n",
       "      <td>3.000000</td>\n",
       "      <td>80.000000</td>\n",
       "      <td>8.000000</td>\n",
       "      <td>6.000000</td>\n",
       "      <td>512.329200</td>\n",
       "    </tr>\n",
       "  </tbody>\n",
       "</table>\n",
       "</div>"
      ],
      "text/plain": [
       "       PassengerId    Survived      Pclass         Age       SibSp  \\\n",
       "count   891.000000  891.000000  891.000000  714.000000  891.000000   \n",
       "mean    446.000000    0.383838    2.308642   29.699118    0.523008   \n",
       "std     257.353842    0.486592    0.836071   14.526497    1.102743   \n",
       "min       1.000000    0.000000    1.000000    0.420000    0.000000   \n",
       "25%     223.500000    0.000000    2.000000   20.125000    0.000000   \n",
       "50%     446.000000    0.000000    3.000000   28.000000    0.000000   \n",
       "75%     668.500000    1.000000    3.000000   38.000000    1.000000   \n",
       "max     891.000000    1.000000    3.000000   80.000000    8.000000   \n",
       "\n",
       "            Parch        Fare  \n",
       "count  891.000000  891.000000  \n",
       "mean     0.381594   32.204208  \n",
       "std      0.806057   49.693429  \n",
       "min      0.000000    0.000000  \n",
       "25%      0.000000    7.910400  \n",
       "50%      0.000000   14.454200  \n",
       "75%      0.000000   31.000000  \n",
       "max      6.000000  512.329200  "
      ]
     },
     "execution_count": 2,
     "metadata": {},
     "output_type": "execute_result"
    }
   ],
   "source": [
    "titanic_data=pd.read_csv(\"titanic_train.csv\")\n",
    "\"\"\"\n",
    "Imports data frame and identifies it as titanic_data.\n",
    "describe() creates a data table of all columns containing interger values and breaks them into values such as min, max, mean, std, and quartiles.\n",
    "\"\"\"\n",
    "titanic_data.describe()"
   ]
  },
  {
   "cell_type": "code",
   "execution_count": 3,
   "id": "8f106036-1cc8-4afe-a0e4-29a56b6cd43e",
   "metadata": {},
   "outputs": [
    {
     "data": {
      "text/plain": [
       "Index(['PassengerId', 'Survived', 'Pclass', 'Name', 'Sex', 'Age', 'SibSp',\n",
       "       'Parch', 'Ticket', 'Fare', 'Cabin', 'Embarked'],\n",
       "      dtype='object')"
      ]
     },
     "execution_count": 3,
     "metadata": {},
     "output_type": "execute_result"
    }
   ],
   "source": [
    "titanic_data.columns # Displays all column titles in the data frame."
   ]
  },
  {
   "cell_type": "code",
   "execution_count": 4,
   "id": "b87fa46d-397a-4d3a-be72-652e04a4e14d",
   "metadata": {},
   "outputs": [
    {
     "name": "stdout",
     "output_type": "stream",
     "text": [
      "<class 'pandas.core.frame.DataFrame'>\n",
      "RangeIndex: 891 entries, 0 to 890\n",
      "Data columns (total 12 columns):\n",
      " #   Column       Non-Null Count  Dtype  \n",
      "---  ------       --------------  -----  \n",
      " 0   PassengerId  891 non-null    int64  \n",
      " 1   Survived     891 non-null    int64  \n",
      " 2   Pclass       891 non-null    int64  \n",
      " 3   Name         891 non-null    object \n",
      " 4   Sex          891 non-null    object \n",
      " 5   Age          714 non-null    float64\n",
      " 6   SibSp        891 non-null    int64  \n",
      " 7   Parch        891 non-null    int64  \n",
      " 8   Ticket       891 non-null    object \n",
      " 9   Fare         891 non-null    float64\n",
      " 10  Cabin        204 non-null    object \n",
      " 11  Embarked     889 non-null    object \n",
      "dtypes: float64(2), int64(5), object(5)\n",
      "memory usage: 83.7+ KB\n"
     ]
    }
   ],
   "source": [
    "titanic_data.info() # Shows all columns, the type of data in those columns and the number of non-null values in the columns."
   ]
  },
  {
   "cell_type": "markdown",
   "id": "8da34d13-bba4-4124-9153-dcf2b8f8a44c",
   "metadata": {
    "jp-MarkdownHeadingCollapsed": true
   },
   "source": [
    "# Summary Statistic of Numerical Data"
   ]
  },
  {
   "cell_type": "code",
   "execution_count": 5,
   "id": "1ad3264e-72c1-4c4a-b186-1a221a5b3650",
   "metadata": {},
   "outputs": [
    {
     "data": {
      "text/html": [
       "<div>\n",
       "<style scoped>\n",
       "    .dataframe tbody tr th:only-of-type {\n",
       "        vertical-align: middle;\n",
       "    }\n",
       "\n",
       "    .dataframe tbody tr th {\n",
       "        vertical-align: top;\n",
       "    }\n",
       "\n",
       "    .dataframe thead th {\n",
       "        text-align: right;\n",
       "    }\n",
       "</style>\n",
       "<table border=\"1\" class=\"dataframe\">\n",
       "  <thead>\n",
       "    <tr style=\"text-align: right;\">\n",
       "      <th></th>\n",
       "      <th>PassengerId</th>\n",
       "      <th>Survived</th>\n",
       "      <th>Pclass</th>\n",
       "      <th>Age</th>\n",
       "      <th>SibSp</th>\n",
       "      <th>Parch</th>\n",
       "      <th>Fare</th>\n",
       "    </tr>\n",
       "  </thead>\n",
       "  <tbody>\n",
       "    <tr>\n",
       "      <th>count</th>\n",
       "      <td>891.000000</td>\n",
       "      <td>891.000000</td>\n",
       "      <td>891.000000</td>\n",
       "      <td>714.000000</td>\n",
       "      <td>891.000000</td>\n",
       "      <td>891.000000</td>\n",
       "      <td>891.000000</td>\n",
       "    </tr>\n",
       "    <tr>\n",
       "      <th>mean</th>\n",
       "      <td>446.000000</td>\n",
       "      <td>0.383838</td>\n",
       "      <td>2.308642</td>\n",
       "      <td>29.699118</td>\n",
       "      <td>0.523008</td>\n",
       "      <td>0.381594</td>\n",
       "      <td>32.204208</td>\n",
       "    </tr>\n",
       "    <tr>\n",
       "      <th>std</th>\n",
       "      <td>257.353842</td>\n",
       "      <td>0.486592</td>\n",
       "      <td>0.836071</td>\n",
       "      <td>14.526497</td>\n",
       "      <td>1.102743</td>\n",
       "      <td>0.806057</td>\n",
       "      <td>49.693429</td>\n",
       "    </tr>\n",
       "    <tr>\n",
       "      <th>min</th>\n",
       "      <td>1.000000</td>\n",
       "      <td>0.000000</td>\n",
       "      <td>1.000000</td>\n",
       "      <td>0.420000</td>\n",
       "      <td>0.000000</td>\n",
       "      <td>0.000000</td>\n",
       "      <td>0.000000</td>\n",
       "    </tr>\n",
       "    <tr>\n",
       "      <th>25%</th>\n",
       "      <td>223.500000</td>\n",
       "      <td>0.000000</td>\n",
       "      <td>2.000000</td>\n",
       "      <td>20.125000</td>\n",
       "      <td>0.000000</td>\n",
       "      <td>0.000000</td>\n",
       "      <td>7.910400</td>\n",
       "    </tr>\n",
       "    <tr>\n",
       "      <th>50%</th>\n",
       "      <td>446.000000</td>\n",
       "      <td>0.000000</td>\n",
       "      <td>3.000000</td>\n",
       "      <td>28.000000</td>\n",
       "      <td>0.000000</td>\n",
       "      <td>0.000000</td>\n",
       "      <td>14.454200</td>\n",
       "    </tr>\n",
       "    <tr>\n",
       "      <th>75%</th>\n",
       "      <td>668.500000</td>\n",
       "      <td>1.000000</td>\n",
       "      <td>3.000000</td>\n",
       "      <td>38.000000</td>\n",
       "      <td>1.000000</td>\n",
       "      <td>0.000000</td>\n",
       "      <td>31.000000</td>\n",
       "    </tr>\n",
       "    <tr>\n",
       "      <th>max</th>\n",
       "      <td>891.000000</td>\n",
       "      <td>1.000000</td>\n",
       "      <td>3.000000</td>\n",
       "      <td>80.000000</td>\n",
       "      <td>8.000000</td>\n",
       "      <td>6.000000</td>\n",
       "      <td>512.329200</td>\n",
       "    </tr>\n",
       "  </tbody>\n",
       "</table>\n",
       "</div>"
      ],
      "text/plain": [
       "       PassengerId    Survived      Pclass         Age       SibSp  \\\n",
       "count   891.000000  891.000000  891.000000  714.000000  891.000000   \n",
       "mean    446.000000    0.383838    2.308642   29.699118    0.523008   \n",
       "std     257.353842    0.486592    0.836071   14.526497    1.102743   \n",
       "min       1.000000    0.000000    1.000000    0.420000    0.000000   \n",
       "25%     223.500000    0.000000    2.000000   20.125000    0.000000   \n",
       "50%     446.000000    0.000000    3.000000   28.000000    0.000000   \n",
       "75%     668.500000    1.000000    3.000000   38.000000    1.000000   \n",
       "max     891.000000    1.000000    3.000000   80.000000    8.000000   \n",
       "\n",
       "            Parch        Fare  \n",
       "count  891.000000  891.000000  \n",
       "mean     0.381594   32.204208  \n",
       "std      0.806057   49.693429  \n",
       "min      0.000000    0.000000  \n",
       "25%      0.000000    7.910400  \n",
       "50%      0.000000   14.454200  \n",
       "75%      0.000000   31.000000  \n",
       "max      6.000000  512.329200  "
      ]
     },
     "execution_count": 5,
     "metadata": {},
     "output_type": "execute_result"
    }
   ],
   "source": [
    "titanic_data.describe() "
   ]
  },
  {
   "cell_type": "markdown",
   "id": "ddabac12-973c-4e12-bb1c-127ed068d8ea",
   "metadata": {},
   "source": [
    "This code above allows the interpretation of numerical data through being able to see the average, standard deviation, the quartiles, and the minimum and maximum data points. This can be used to identify outliers, such as in the Fare column the average is 32.2 but the max was recorded as 512.3, indicating that there is a possibility of an outlier."
   ]
  },
  {
   "cell_type": "markdown",
   "id": "bb96b2ba-7e8d-43a6-98d5-1343296e4820",
   "metadata": {
    "jp-MarkdownHeadingCollapsed": true
   },
   "source": [
    "# Boxplot Analysis"
   ]
  },
  {
   "cell_type": "code",
   "execution_count": 6,
   "id": "a61a247d-53ad-4ae6-aac8-043117215a34",
   "metadata": {},
   "outputs": [
    {
     "name": "stdout",
     "output_type": "stream",
     "text": [
      "0          Died\n",
      "1      Survived\n",
      "2      Survived\n",
      "3      Survived\n",
      "4          Died\n",
      "         ...   \n",
      "886        Died\n",
      "887    Survived\n",
      "888        Died\n",
      "889    Survived\n",
      "890        Died\n",
      "Name: Survived, Length: 891, dtype: object\n"
     ]
    }
   ],
   "source": [
    "titanic_data[\"Survived\"]=titanic_data[\"Survived\"].replace({1:\"Survived\", 0:\"Died\"}) #Changing Survival data from int to string\n",
    "print(titanic_data[\"Survived\"]) #Verifying that the data column changed from int to string"
   ]
  },
  {
   "cell_type": "code",
   "execution_count": 7,
   "id": "dee7b2a7-07cf-4a06-ae26-14ec713e3673",
   "metadata": {},
   "outputs": [
    {
     "data": {
      "image/png": "[encoded data removed]",
      "text/plain": [
       "<Figure size 640x480 with 1 Axes>"
      ]
     },
     "metadata": {},
     "output_type": "display_data"
    }
   ],
   "source": [
    "titanic_data.boxplot(column='Fare', by='Survived')\n",
    "plt.title('Fare Distribution by Survival')\n",
    "plt.xlabel('Survival Status')\n",
    "plt.suptitle(\"\")\n",
    "plt.ylabel('Fare')\n",
    "plt.show()\n",
    "# This cell of code creates a boxplot comparing the survival rate against the fare that was paid per passenger."
   ]
  },
  {
   "cell_type": "markdown",
   "id": "8a6cfece-316d-4306-9359-72117d48dbaa",
   "metadata": {},
   "source": [
    "The Boxplots above show the on average, if a passenger spent more money for there fare on the titanic there was a more likely chance that they survived the wreck. The boxplot shows the spread of data including the average, quartiles and standard deviation, the dots found on the plot indicate that there are numerous outliers that could be removed to clean up the data, such as the fare of over 500 which would make that plot more easily read."
   ]
  },
  {
   "cell_type": "markdown",
   "id": "a41c7f4d-5e4f-4e32-b824-a42cf4cde72c",
   "metadata": {
    "jp-MarkdownHeadingCollapsed": true
   },
   "source": [
    "# Pie Chart Analysis"
   ]
  },
  {
   "cell_type": "code",
   "execution_count": 8,
   "id": "efa2183a-6937-4b7c-8933-f198330850ae",
   "metadata": {},
   "outputs": [
    {
     "name": "stdout",
     "output_type": "stream",
     "text": [
      "<class 'pandas.core.frame.DataFrame'>\n",
      "RangeIndex: 891 entries, 0 to 890\n",
      "Data columns (total 12 columns):\n",
      " #   Column       Non-Null Count  Dtype  \n",
      "---  ------       --------------  -----  \n",
      " 0   PassengerId  891 non-null    int64  \n",
      " 1   Survived     891 non-null    object \n",
      " 2   Pclass       891 non-null    int64  \n",
      " 3   Name         891 non-null    object \n",
      " 4   Sex          891 non-null    object \n",
      " 5   Age          714 non-null    float64\n",
      " 6   SibSp        891 non-null    int64  \n",
      " 7   Parch        891 non-null    int64  \n",
      " 8   Ticket       891 non-null    object \n",
      " 9   Fare         891 non-null    float64\n",
      " 10  Cabin        204 non-null    object \n",
      " 11  Embarked     889 non-null    object \n",
      "dtypes: float64(2), int64(4), object(6)\n",
      "memory usage: 83.7+ KB\n"
     ]
    }
   ],
   "source": [
    "titanic_data.info()"
   ]
  },
  {
   "cell_type": "code",
   "execution_count": 9,
   "id": "36bb8de4-8c63-4262-a86d-651775a2df00",
   "metadata": {},
   "outputs": [
    {
     "data": {
      "text/plain": [
       "Index(['PassengerId', 'Survived', 'Pclass', 'Name', 'Sex', 'Age', 'SibSp',\n",
       "       'Parch', 'Ticket', 'Fare', 'Cabin', 'Embarked'],\n",
       "      dtype='object')"
      ]
     },
     "execution_count": 9,
     "metadata": {},
     "output_type": "execute_result"
    }
   ],
   "source": [
    "titanic_data.columns"
   ]
  },
  {
   "cell_type": "code",
   "execution_count": 10,
   "id": "483a0aa5-4373-4c33-b82b-fe3853a198bd",
   "metadata": {},
   "outputs": [
    {
     "data": {
      "image/png": "[encoded data removed]",
      "text/plain": [
       "<Figure size 640x480 with 1 Axes>"
      ]
     },
     "metadata": {},
     "output_type": "display_data"
    }
   ],
   "source": [
    "sex_data=titanic_data[\"Sex\"].value_counts()\n",
    "\"\"\"\n",
    "Creates a pie chart of the gender distribution between males and females.\n",
    "\"\"\"\n",
    "plt.pie(sex_data, labels=sex_data.index)\n",
    "plt.title(\"Pie Chart\")\n",
    "plt.title(\"Gender Distribution of The Titanic\")\n",
    "plt.show()"
   ]
  },
  {
   "cell_type": "markdown",
   "id": "ababa0d2-1e91-4b5b-856b-c10a4b97b3c6",
   "metadata": {},
   "source": [
    "The pie chart gives a visual indication of the male vs. female passengers. But yet as seen in later tests females were far more likely to survive the accident than males were."
   ]
  },
  {
   "cell_type": "markdown",
   "id": "0beff4b3-3573-4bd6-97c3-c57c1a88d821",
   "metadata": {
    "jp-MarkdownHeadingCollapsed": true
   },
   "source": [
    "# Correlation"
   ]
  },
  {
   "cell_type": "code",
   "execution_count": 11,
   "id": "c1b2c566-35e9-4703-ad06-ef016118d4da",
   "metadata": {},
   "outputs": [
    {
     "name": "stdout",
     "output_type": "stream",
     "text": [
      "             PassengerId  Pclass   Age  SibSp  Parch  Fare\n",
      "PassengerId         1.00   -0.04  0.04  -0.06  -0.00  0.01\n",
      "Pclass             -0.04    1.00 -0.37   0.08   0.02 -0.55\n",
      "Age                 0.04   -0.37  1.00  -0.31  -0.19  0.10\n",
      "SibSp              -0.06    0.08 -0.31   1.00   0.41  0.16\n",
      "Parch              -0.00    0.02 -0.19   0.41   1.00  0.22\n",
      "Fare                0.01   -0.55  0.10   0.16   0.22  1.00\n"
     ]
    }
   ],
   "source": [
    "corr_scores=titanic_data.corr(numeric_only=True) # This line of code allows the correlation comparison of all columns containing numerical values.\n",
    "print(corr_scores.round(2)) # This allows the print out of the data with a rounding to two decimal points for easier analysis."
   ]
  },
  {
   "cell_type": "code",
   "execution_count": 12,
   "id": "000ef0b7-d166-4db7-bd83-e42b12b576f4",
   "metadata": {},
   "outputs": [
    {
     "name": "stdout",
     "output_type": "stream",
     "text": [
      "PassengerId   -0.057527\n",
      "Pclass        -0.549500\n",
      "Age           -0.369226\n",
      "SibSp         -0.308247\n",
      "Parch         -0.189119\n",
      "Fare          -0.549500\n",
      "dtype: float64\n"
     ]
    }
   ],
   "source": [
    "print(corr_scores.min()) # Prints the lowest correlation scores for easier visualization of data."
   ]
  },
  {
   "cell_type": "markdown",
   "id": "b033138c-cbb3-4f3b-b488-e93c680ce99c",
   "metadata": {},
   "source": [
    "The cells above show the correlations that are most closely correlated or anticorrelated. The closer to 1 the correlation coefficient is the more directly correlated the relationship is. The closer to -1, indicated a more inverse relationship. "
   ]
  },
  {
   "cell_type": "code",
   "execution_count": 13,
   "id": "109b7449-a99f-4c11-8b51-068d7cc727fb",
   "metadata": {},
   "outputs": [
    {
     "data": {
      "image/png": "[encoded data removed]",
      "text/plain": [
       "<Figure size 480x480 with 2 Axes>"
      ]
     },
     "metadata": {},
     "output_type": "display_data"
    }
   ],
   "source": [
    "plt.matshow(corr_scores)\n",
    "\"\"\"\n",
    "Creates a heat map of correlation values compared to all numerical columns.\n",
    "\"\"\"\n",
    "num_labels=len(corr_scores.index)\n",
    "plt.xticks(ticks=range(num_labels), labels=corr_scores.index, rotation=90)\n",
    "plt.yticks(ticks=range(num_labels), labels=corr_scores.index, rotation=0)\n",
    "plt.colorbar()\n",
    "plt.show()"
   ]
  },
  {
   "cell_type": "raw",
   "id": "afcd0004-3ef1-4944-b677-3970aaddb93d",
   "metadata": {},
   "source": [
    "The graphic above displays a visual representation of the correlation between the various data columns containing numerical data. Using this graphic it can be deterimined that the factors with the highest correlation is the \"SibSP\" and \"Parch\", representing the number of siblings or spouse onboard compared to the number of parents and children onboard. The lowest correlation was Fare vs. Ticket Class. "
   ]
  },
  {
   "cell_type": "markdown",
   "id": "4966a9ae-79d1-43cb-a37e-1dbff08b10f1",
   "metadata": {
    "jp-MarkdownHeadingCollapsed": true
   },
   "source": [
    "# Chi-Squared Test"
   ]
  },
  {
   "cell_type": "code",
   "execution_count": 14,
   "id": "fc63ee77-1d4d-498f-9c40-f42a0a5db245",
   "metadata": {},
   "outputs": [
    {
     "name": "stdout",
     "output_type": "stream",
     "text": [
      "The P-Value is: 1.1973570627755645e-58\n"
     ]
    }
   ],
   "source": [
    "titanic_data_survived=pd.crosstab(titanic_data[\"Sex\"],titanic_data[\"Survived\"])\n",
    "\"\"\"\n",
    "Create a cross tab between two categorical columns such as sex and survived columns.\n",
    "Run test with code using scipy library to find p result.\n",
    "\"\"\"\n",
    "c,p,dog,expected=scipy.stats.chi2_contingency(titanic_data_survived)\n",
    "print(\"The P-Value is:\",p)"
   ]
  },
  {
   "cell_type": "markdown",
   "id": "48a7c7f5-4e65-49ff-8967-9a23e49523c0",
   "metadata": {},
   "source": [
    "The P-Value is significantly less than 0.05, indicating that there was a strong correlation between gender and if someone was to survive the titanic wreck. Women were more likely to survive due to people prioritizing women and children. As seen in the Cell below significantly more males died than women. "
   ]
  },
  {
   "cell_type": "code",
   "execution_count": 15,
   "id": "dccc9b79-d7cc-4be5-b724-980d3c8d0076",
   "metadata": {},
   "outputs": [
    {
     "name": "stdout",
     "output_type": "stream",
     "text": [
      "Survived  Died  Survived\n",
      "Sex                     \n",
      "female      81       233\n",
      "male       468       109\n"
     ]
    }
   ],
   "source": [
    "print(titanic_data_survived)"
   ]
  },
  {
   "cell_type": "markdown",
   "id": "fada98c3-1510-4854-90c5-fa10d64dceb5",
   "metadata": {
    "jp-MarkdownHeadingCollapsed": true
   },
   "source": [
    "# Age Histogram"
   ]
  },
  {
   "cell_type": "code",
   "execution_count": 20,
   "id": "a6de38ab-bd7e-4e14-9706-d382baab5361",
   "metadata": {},
   "outputs": [
    {
     "data": {
      "image/png": "[encoded data removed]",
      "text/plain": [
       "<Figure size 640x480 with 1 Axes>"
      ]
     },
     "metadata": {},
     "output_type": "display_data"
    }
   ],
   "source": [
    "plt.hist(titanic_data[\"Age\"],bins=100,)\n",
    "plt.title(\"Titanic Data\")\n",
    "plt.xlabel(\"\")\n",
    "plt.ylabel(\"\")\n",
    "plt.show()"
   ]
  },
  {
   "cell_type": "markdown",
   "id": "5fbc2678-7890-48b5-bb3d-cbe2cab51081",
   "metadata": {},
   "source": [
    "# Ticket Class Scatter Plot"
   ]
  },
  {
   "cell_type": "code",
   "execution_count": 23,
   "id": "0f244a8e-0fc8-468f-98dc-2ab5bf62df33",
   "metadata": {},
   "outputs": [
    {
     "name": "stdout",
     "output_type": "stream",
     "text": [
      "<class 'pandas.core.frame.DataFrame'>\n",
      "RangeIndex: 891 entries, 0 to 890\n",
      "Data columns (total 12 columns):\n",
      " #   Column       Non-Null Count  Dtype  \n",
      "---  ------       --------------  -----  \n",
      " 0   PassengerId  891 non-null    int64  \n",
      " 1   Survived     891 non-null    object \n",
      " 2   Pclass       891 non-null    int64  \n",
      " 3   Name         891 non-null    object \n",
      " 4   Sex          891 non-null    object \n",
      " 5   Age          714 non-null    float64\n",
      " 6   SibSp        891 non-null    int64  \n",
      " 7   Parch        891 non-null    int64  \n",
      " 8   Ticket       891 non-null    object \n",
      " 9   Fare         891 non-null    float64\n",
      " 10  Cabin        204 non-null    object \n",
      " 11  Embarked     889 non-null    object \n",
      "dtypes: float64(2), int64(4), object(6)\n",
      "memory usage: 83.7+ KB\n"
     ]
    }
   ],
   "source": [
    "titanic_data.info()"
   ]
  },
  {
   "cell_type": "code",
   "execution_count": 41,
   "id": "792678f7-8866-4a3a-9960-933f7734d920",
   "metadata": {},
   "outputs": [
    {
     "data": {
      "text/plain": [
       "Text(0.5, 0.6, 'R = -0.55')"
      ]
     },
     "execution_count": 41,
     "metadata": {},
     "output_type": "execute_result"
    },
    {
     "data": {
      "image/png": "[encoded data removed]",
      "text/plain": [
       "<Figure size 640x480 with 1 Axes>"
      ]
     },
     "metadata": {},
     "output_type": "display_data"
    }
   ],
   "source": [
    "fare=titanic_data[\"Fare\"]\n",
    "Pclass=titanic_data[\"Pclass\"]\n",
    "corr = scipy.stats.pearsonr(fare, Pclass)\n",
    "linear_model = scipy.stats.linregress(fare, Pclass)\n",
    "slope = linear_model.slope\n",
    "y_intercept = linear_model.intercept\n",
    "linear_fit = slope*fare+y_intercept\n",
    "plt.scatter(fare, Pclass , label=\"Data\")\n",
    "plt.plot(fare,linear_fit , color=\"red\", label=\"Best Fit\")\n",
    "plt.xlabel(\"Total Ticket Cost\")\n",
    "plt.ylabel(\"Ticket Class\")\n",
    "plt.title(\"Ticket Class Vs. Cost\")\n",
    "plt.legend()\n",
    "plt.ylim(0,4)\n",
    "plt.yticks([1,2,3,4])\n",
    "equation_text = f\"y = {slope:.2f}x + {y_intercept:.2f}\"\n",
    "r_value_text = f\"R = {corr[0]:.2f}\"\n",
    "plt.text(0.5, 0.65, equation_text, transform=plt.gca().transAxes, fontsize=12, color=\"black\")\n",
    "plt.text(0.5, 0.60, r_value_text, transform=plt.gca().transAxes, fontsize=12, color=\"black\")\n",
    "# Guidance for adding the Intercept equation and R value to the plot was from ChatGPT"
   ]
  },
  {
   "cell_type": "code",
   "execution_count": null,
   "id": "40060227-9c9d-44e2-a1ba-0d266af16871",
   "metadata": {},
   "outputs": [],
   "source": []
  }
 ],
 "metadata": {
  "kernelspec": {
   "display_name": "Python 3 (ipykernel)",
   "language": "python",
   "name": "python3"
  },
  "language_info": {
   "codemirror_mode": {
    "name": "ipython",
    "version": 3
   },
   "file_extension": ".py",
   "mimetype": "text/x-python",
   "name": "python",
   "nbconvert_exporter": "python",
   "pygments_lexer": "ipython3",
   "version": "3.12.7"
  }
 },
 "nbformat": 4,
 "nbformat_minor": 5
}
